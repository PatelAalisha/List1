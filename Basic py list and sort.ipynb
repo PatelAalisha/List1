{
 "cells": [
  {
   "cell_type": "code",
   "execution_count": 7,
   "id": "e9a0c2f6",
   "metadata": {},
   "outputs": [],
   "source": [
    "# List"
   ]
  },
  {
   "cell_type": "code",
   "execution_count": 8,
   "id": "1ad931a3",
   "metadata": {},
   "outputs": [],
   "source": [
    "# list having multiple data type store in string,float,char,int.it is mutable format,changeable, \n",
    "# you can store  multiple datatype and index starting with 0 .it's use in mall"
   ]
  },
  {
   "cell_type": "code",
   "execution_count": 9,
   "id": "8a6748bb",
   "metadata": {},
   "outputs": [
    {
     "name": "stdout",
     "output_type": "stream",
     "text": [
      "[1, 2, 3, 4, 5, 0.5, 0.11, 'hello']\n"
     ]
    }
   ],
   "source": [
    "list=[1,2,3,4,5,0.5,0.11,'hello']\n",
    "print(list)"
   ]
  },
  {
   "cell_type": "code",
   "execution_count": 10,
   "id": "6aba8b75",
   "metadata": {},
   "outputs": [
    {
     "name": "stdout",
     "output_type": "stream",
     "text": [
      "[1, 2, 3, 4, 5, 0.5, 0.11, 'hello', 'Aalisha']\n"
     ]
    }
   ],
   "source": [
    "list=[1,2,3,4,5,0.5,0.11,'hello',\"Aalisha\"]\n",
    "print(list)"
   ]
  },
  {
   "cell_type": "code",
   "execution_count": 12,
   "id": "180e2c31",
   "metadata": {},
   "outputs": [
    {
     "data": {
      "text/plain": [
       "'Aalisha'"
      ]
     },
     "execution_count": 12,
     "metadata": {},
     "output_type": "execute_result"
    }
   ],
   "source": [
    "list1=[1,2,3,4,5,0.5,0.11,'hello',\"Aalisha\"]\n",
    "list1[8] # Index"
   ]
  },
  {
   "cell_type": "code",
   "execution_count": 11,
   "id": "f3999d56",
   "metadata": {},
   "outputs": [
    {
     "name": "stdout",
     "output_type": "stream",
     "text": [
      "Enter the input Number:hii Aalisha\n",
      "Enter the list ['hii Aalisha']\n"
     ]
    }
   ],
   "source": [
    "list1=input(\"Enter the input Number:\").split(\",\")\n",
    "print('Enter the list',list1)"
   ]
  },
  {
   "cell_type": "code",
   "execution_count": 15,
   "id": "72df7862",
   "metadata": {},
   "outputs": [],
   "source": [
    "# append()- add the element at the end of list"
   ]
  },
  {
   "cell_type": "code",
   "execution_count": 16,
   "id": "e30973e0",
   "metadata": {},
   "outputs": [
    {
     "name": "stdout",
     "output_type": "stream",
     "text": [
      "List before append : [1, 2, 34, 5, 8, 900]\n",
      "List after append : [1, 2, 34, 5, 8, 900, 2000]\n"
     ]
    }
   ],
   "source": [
    "l1=[1,2,34,5,8,900]\n",
    "print(\"List before append :\",l1)\n",
    "l1.append(2000)\n",
    "print(\"List after append :\",l1)"
   ]
  },
  {
   "cell_type": "code",
   "execution_count": 20,
   "id": "1072aa6c",
   "metadata": {},
   "outputs": [
    {
     "name": "stdout",
     "output_type": "stream",
     "text": [
      "list before append: ['hello', 'Aalisha']\n",
      "List after append : ['hello', 'Aalisha', 'Welcome to Magic world']\n"
     ]
    }
   ],
   "source": [
    "list=['hello',\"Aalisha\"]\n",
    "print(\"list before append:\",list)\n",
    "list.append(\"Welcome to Magic world\")\n",
    "print(\"List after append :\",list)"
   ]
  },
  {
   "cell_type": "code",
   "execution_count": 22,
   "id": "e2ddf1d5",
   "metadata": {},
   "outputs": [],
   "source": [
    "# Insert(I,x)- add an element in the list at any position or at a speific index in alist"
   ]
  },
  {
   "cell_type": "code",
   "execution_count": 23,
   "id": "cb60bceb",
   "metadata": {},
   "outputs": [
    {
     "name": "stdout",
     "output_type": "stream",
     "text": [
      "Before inserting the element in list : ['hello', 'friend', 'good Morning', 'How are You']\n",
      "After inserting the element in a 4rd index : ['hello', 'friend', 'good Morning', 'How are You', 'Where are form']\n"
     ]
    }
   ],
   "source": [
    "l2=[\"hello\",\"friend\",\"good Morning\",\"How are You\"]\n",
    "print(\"Before inserting the element in list :\",l2)\n",
    "l2.insert(4,\"Where are form\")\n",
    "print(\"After inserting the element in a 4rd index :\",l2)"
   ]
  },
  {
   "cell_type": "code",
   "execution_count": 24,
   "id": "e4f3bb95",
   "metadata": {},
   "outputs": [
    {
     "name": "stdout",
     "output_type": "stream",
     "text": [
      "Before inserting the element in list : [1, 2, 3, 4, 5, 6, 7, 8, 9, 10, 11, 21, 11]\n",
      "After inserting the element in a 4rd index : [1, 2, 3, 4, 5, '55', 6, 7, 8, 9, 10, 11, 21, 11]\n"
     ]
    }
   ],
   "source": [
    "l3=[1,2,3,4,5,6,7,8,9,10,11,21,11]\n",
    "print(\"Before inserting the element in list :\",l3)\n",
    "l3.insert(5,\"55\")\n",
    "print(\"After inserting the element in a 4rd index :\",l3)"
   ]
  },
  {
   "cell_type": "code",
   "execution_count": 25,
   "id": "82ce6750",
   "metadata": {},
   "outputs": [],
   "source": [
    "# Extend(iterable)-add element to alist\n",
    "# extend is add group of element at the end of list\n",
    "# insert insert the element a specific position or index\n",
    "# Append single element to the end list"
   ]
  },
  {
   "cell_type": "code",
   "execution_count": 27,
   "id": "ca015eea",
   "metadata": {},
   "outputs": [
    {
     "name": "stdout",
     "output_type": "stream",
     "text": [
      "Befor extending list is : [2, 4, 6, 8, 10, 12]\n",
      "After extending list is : [2, 4, 6, 8, 10, 12, 14, 18, 20]\n"
     ]
    }
   ],
   "source": [
    "l1=[2,4,6,8,10,12]\n",
    "l2=[14,18,20]\n",
    "print(\"Befor extending list is :\",l1)\n",
    "l1.extend(l2)\n",
    "print(\"After extending list is :\",l1)\n"
   ]
  },
  {
   "cell_type": "code",
   "execution_count": 3,
   "id": "8d128cf2",
   "metadata": {},
   "outputs": [
    {
     "name": "stdout",
     "output_type": "stream",
     "text": [
      "Before extend the element in list : ['hello', 'friend']\n",
      "After extend the element in list : ['hello', 'friend', 'good Morning', 'How are You']\n"
     ]
    }
   ],
   "source": [
    "l2=[\"hello\",\"friend\"]\n",
    "l4=[\"good Morning\",\"How are You\"]\n",
    "print(\"Before extend the element in list :\",l2)\n",
    "l2.extend(l4)\n",
    "print(\"After extend the element in list :\",l2)"
   ]
  },
  {
   "cell_type": "code",
   "execution_count": 1,
   "id": "534cc862",
   "metadata": {},
   "outputs": [],
   "source": [
    "# remove(x)- it method is used to remove the element from the list"
   ]
  },
  {
   "cell_type": "code",
   "execution_count": 2,
   "id": "ec241428",
   "metadata": {},
   "outputs": [
    {
     "name": "stdout",
     "output_type": "stream",
     "text": [
      "Before remove list is : [2, 4, 6, 8, 10, 12]\n",
      "After remove list is : [2, 4, 6, 8, 12]\n"
     ]
    }
   ],
   "source": [
    "l1=[2,4,6,8,10,12]\n",
    "print(\"Before remove list is :\",l1)\n",
    "l1.remove(10)\n",
    "print(\"After remove list is :\",l1)"
   ]
  },
  {
   "cell_type": "code",
   "execution_count": 6,
   "id": "2ac4520a",
   "metadata": {},
   "outputs": [
    {
     "name": "stdout",
     "output_type": "stream",
     "text": [
      "Before remove the element in list : ['hello', 'friend', 'good Morning']\n",
      "After remove the element in list : ['hello', 'friend']\n"
     ]
    }
   ],
   "source": [
    "l2=[\"hello\",\"friend\",\"good Morning\"]\n",
    "print(\"Before remove the element in list :\",l2)\n",
    "l2.remove(\"good Morning\")\n",
    "print(\"After remove the element in list :\",l2)"
   ]
  },
  {
   "cell_type": "code",
   "execution_count": 7,
   "id": "d598cbaa",
   "metadata": {},
   "outputs": [],
   "source": [
    "# Pop- is used to remove the element with its specific index"
   ]
  },
  {
   "cell_type": "code",
   "execution_count": 9,
   "id": "4843db73",
   "metadata": {},
   "outputs": [
    {
     "name": "stdout",
     "output_type": "stream",
     "text": [
      "Before pop list is : [2, 4, 6, 8, 10, 12]\n",
      "After pop list is : [2, 6, 8, 10, 12]\n"
     ]
    }
   ],
   "source": [
    "l1=[2,4,6,8,10,12]\n",
    "print(\"Before pop list is :\",l1)\n",
    "l1.pop(1)\n",
    "print(\"After pop list is :\",l1)"
   ]
  },
  {
   "cell_type": "code",
   "execution_count": 11,
   "id": "d212dee1",
   "metadata": {},
   "outputs": [
    {
     "name": "stdout",
     "output_type": "stream",
     "text": [
      "Before pop the element in list : ['hello', 'friend', 'good Morning']\n",
      "After pop the element in list : ['hello', 'friend']\n"
     ]
    }
   ],
   "source": [
    "l2=[\"hello\",\"friend\",\"good Morning\"]\n",
    "print(\"Before pop the element in list :\",l2)\n",
    "l2.pop(2)\n",
    "print(\"After pop the element in list :\",l2)"
   ]
  },
  {
   "cell_type": "code",
   "execution_count": 12,
   "id": "ff339d93",
   "metadata": {},
   "outputs": [],
   "source": [
    "# index(i)-method returns the index of first occurrence of element from list"
   ]
  },
  {
   "cell_type": "code",
   "execution_count": 15,
   "id": "fa415dfe",
   "metadata": {},
   "outputs": [
    {
     "data": {
      "text/plain": [
       "1"
      ]
     },
     "execution_count": 15,
     "metadata": {},
     "output_type": "execute_result"
    }
   ],
   "source": [
    "l2=[\"hello\",\"friend\",\"good Morning\"]\n",
    "l2.index(\"friend\")\n"
   ]
  },
  {
   "cell_type": "code",
   "execution_count": 16,
   "id": "c52817a5",
   "metadata": {},
   "outputs": [
    {
     "data": {
      "text/plain": [
       "4"
      ]
     },
     "execution_count": 16,
     "metadata": {},
     "output_type": "execute_result"
    }
   ],
   "source": [
    "l3=[1,2,3,4,5,6,7,8,9,10]\n",
    "l3.index(5)"
   ]
  },
  {
   "cell_type": "code",
   "execution_count": 17,
   "id": "63d15be5",
   "metadata": {},
   "outputs": [],
   "source": [
    "# Count(x)-method will return the count of occurrences of a element in alist"
   ]
  },
  {
   "cell_type": "code",
   "execution_count": 21,
   "id": "4d73a575",
   "metadata": {},
   "outputs": [
    {
     "data": {
      "text/plain": [
       "0"
      ]
     },
     "execution_count": 21,
     "metadata": {},
     "output_type": "execute_result"
    }
   ],
   "source": [
    "l2=[\"hello\",\"friend\",\"good Morning\"]\n",
    "l2.count(\"Nice to meet You\")"
   ]
  },
  {
   "cell_type": "code",
   "execution_count": 22,
   "id": "78d53aaf",
   "metadata": {},
   "outputs": [
    {
     "data": {
      "text/plain": [
       "4"
      ]
     },
     "execution_count": 22,
     "metadata": {},
     "output_type": "execute_result"
    }
   ],
   "source": [
    "l3=[1,2,3,4,5,6,7,8,8,8,8,9,10]\n",
    "l3.count(8)"
   ]
  },
  {
   "cell_type": "code",
   "execution_count": 24,
   "id": "ed04c997",
   "metadata": {},
   "outputs": [],
   "source": [
    "# Sort()- function in python used to sort the element of list in ascending order"
   ]
  },
  {
   "cell_type": "code",
   "execution_count": 26,
   "id": "6e36ecee",
   "metadata": {},
   "outputs": [
    {
     "name": "stdout",
     "output_type": "stream",
     "text": [
      "Before sort list is : [2, 4, 8, 10, 20, 6, 12]\n",
      "After sort list is : [2, 4, 6, 8, 10, 12, 20]\n"
     ]
    }
   ],
   "source": [
    "l1=[2,4,8,10,20,6,12]\n",
    "print(\"Before sort list is :\",l1)\n",
    "l1.sort()\n",
    "print(\"After sort list is :\",l1)"
   ]
  },
  {
   "cell_type": "code",
   "execution_count": 27,
   "id": "72545cd5",
   "metadata": {},
   "outputs": [
    {
     "name": "stdout",
     "output_type": "stream",
     "text": [
      "Before sort the element in list : ['hello', 'friend', 'good Morning', 'Aalisha']\n",
      "After sort the element in list : ['Aalisha', 'friend', 'good Morning', 'hello']\n"
     ]
    }
   ],
   "source": [
    "l2=[\"hello\",\"friend\",\"good Morning\",'Aalisha']\n",
    "print(\"Before sort the element in list :\",l2)\n",
    "l2.sort()\n",
    "print(\"After sort the element in list :\",l2)"
   ]
  },
  {
   "cell_type": "code",
   "execution_count": 28,
   "id": "1e9512bf",
   "metadata": {},
   "outputs": [],
   "source": [
    "# Reverse()- Function is used to reverse the order of element of list"
   ]
  },
  {
   "cell_type": "code",
   "execution_count": 29,
   "id": "41fc0c55",
   "metadata": {},
   "outputs": [
    {
     "name": "stdout",
     "output_type": "stream",
     "text": [
      "Before reverse the element in list : ['hello', 'friend', 'good Morning']\n",
      "After reverse the element in list : ['good Morning', 'friend', 'hello']\n"
     ]
    }
   ],
   "source": [
    "l2=[\"hello\",\"friend\",\"good Morning\"]\n",
    "print(\"Before reverse the element in list :\",l2)\n",
    "l2.reverse()\n",
    "print(\"After reverse the element in list :\",l2)"
   ]
  },
  {
   "cell_type": "code",
   "execution_count": 30,
   "id": "af1fe693",
   "metadata": {},
   "outputs": [
    {
     "name": "stdout",
     "output_type": "stream",
     "text": [
      "Before reverse the element in list : [10, 22, 11, 23, 14, 15, 5]\n",
      "After reverse the element in list : [5, 15, 14, 23, 11, 22, 10]\n"
     ]
    }
   ],
   "source": [
    "l4=[10,22,11,23,14,15,5]\n",
    "print(\"Before reverse the element in list :\",l4)\n",
    "l4.reverse()\n",
    "print(\"After reverse the element in list :\",l4)"
   ]
  },
  {
   "cell_type": "code",
   "execution_count": 31,
   "id": "caa7d306",
   "metadata": {},
   "outputs": [],
   "source": [
    "# Clear()-is used to remove all element from list"
   ]
  },
  {
   "cell_type": "code",
   "execution_count": 32,
   "id": "578a338a",
   "metadata": {},
   "outputs": [
    {
     "name": "stdout",
     "output_type": "stream",
     "text": [
      "Before clear the element in list : [10, 22, 11, 23, 14, 15, 5]\n",
      "After clear the element in list : []\n"
     ]
    }
   ],
   "source": [
    "l4=[10,22,11,23,14,15,5]\n",
    "print(\"Before clear the element in list :\",l4)\n",
    "l4.clear()\n",
    "print(\"After clear the element in list :\",l4)"
   ]
  },
  {
   "cell_type": "code",
   "execution_count": 33,
   "id": "b853d2af",
   "metadata": {},
   "outputs": [
    {
     "name": "stdout",
     "output_type": "stream",
     "text": [
      "Before clear the element in list : ['hello', 'friend', 'good Morning']\n",
      "After clear the element in list : []\n"
     ]
    }
   ],
   "source": [
    "l4=[\"hello\",\"friend\",\"good Morning\"]\n",
    "print(\"Before clear the element in list :\",l4)\n",
    "l4.clear()\n",
    "print(\"After clear the element in list :\",l4)"
   ]
  },
  {
   "cell_type": "code",
   "execution_count": 39,
   "id": "d632262e",
   "metadata": {},
   "outputs": [
    {
     "name": "stdout",
     "output_type": "stream",
     "text": [
      "Enter a list of element & separated by commas:1 2 3 4 5 6\n",
      "Your list is: ['1', '2', '3', '4', '5', '6']\n",
      "1\n",
      "2\n",
      "3\n",
      "4\n",
      "5\n",
      "6\n"
     ]
    }
   ],
   "source": [
    "list1=input(\"Enter a list of element & separated by commas:\").split()\n",
    "print(\"Your list is:\",list1)\n",
    "for i in list1:\n",
    "    print(i)"
   ]
  },
  {
   "cell_type": "code",
   "execution_count": null,
   "id": "ab4cbc26",
   "metadata": {},
   "outputs": [],
   "source": []
  },
  {
   "cell_type": "code",
   "execution_count": null,
   "id": "1767cf6c",
   "metadata": {},
   "outputs": [],
   "source": []
  }
 ],
 "metadata": {
  "kernelspec": {
   "display_name": "Python 3 (ipykernel)",
   "language": "python",
   "name": "python3"
  },
  "language_info": {
   "codemirror_mode": {
    "name": "ipython",
    "version": 3
   },
   "file_extension": ".py",
   "mimetype": "text/x-python",
   "name": "python",
   "nbconvert_exporter": "python",
   "pygments_lexer": "ipython3",
   "version": "3.11.5"
  }
 },
 "nbformat": 4,
 "nbformat_minor": 5
}
